{
 "cells": [
  {
   "cell_type": "markdown",
   "metadata": {},
   "source": [
    "# DAT405 - Assignment 1\n",
    "## Eric Johansson & Max Sonnelid, Sept. 6, 2020"
   ]
  },
  {
   "source": [
    "Keywords: scatter plot, transformation of dataframes"
   ],
   "cell_type": "markdown",
   "metadata": {}
  },
  {
   "cell_type": "code",
   "execution_count": 67,
   "metadata": {},
   "outputs": [
    {
     "data": {
      "text/html": [
       "<div>\n",
       "<style scoped>\n",
       "    .dataframe tbody tr th:only-of-type {\n",
       "        vertical-align: middle;\n",
       "    }\n",
       "\n",
       "    .dataframe tbody tr th {\n",
       "        vertical-align: top;\n",
       "    }\n",
       "\n",
       "    .dataframe thead th {\n",
       "        text-align: right;\n",
       "    }\n",
       "</style>\n",
       "<table border=\"1\" class=\"dataframe\">\n",
       "  <thead>\n",
       "    <tr style=\"text-align: right;\">\n",
       "      <th></th>\n",
       "      <th>Life expectancy at birth (years)</th>\n",
       "      <th>GDP per capita ($)</th>\n",
       "      <th>Population</th>\n",
       "    </tr>\n",
       "  </thead>\n",
       "  <tbody>\n",
       "    <tr>\n",
       "      <th>count</th>\n",
       "      <td>19028.000000</td>\n",
       "      <td>18202.000000</td>\n",
       "      <td>4.688300e+04</td>\n",
       "    </tr>\n",
       "    <tr>\n",
       "      <th>mean</th>\n",
       "      <td>61.751767</td>\n",
       "      <td>6886.100483</td>\n",
       "      <td>2.982790e+07</td>\n",
       "    </tr>\n",
       "    <tr>\n",
       "      <th>std</th>\n",
       "      <td>13.091632</td>\n",
       "      <td>11092.599373</td>\n",
       "      <td>2.530860e+08</td>\n",
       "    </tr>\n",
       "    <tr>\n",
       "      <th>min</th>\n",
       "      <td>17.760000</td>\n",
       "      <td>134.000000</td>\n",
       "      <td>9.050000e+02</td>\n",
       "    </tr>\n",
       "    <tr>\n",
       "      <th>25%</th>\n",
       "      <td>52.314750</td>\n",
       "      <td>1380.250000</td>\n",
       "      <td>2.017335e+05</td>\n",
       "    </tr>\n",
       "    <tr>\n",
       "      <th>50%</th>\n",
       "      <td>64.713000</td>\n",
       "      <td>2744.500000</td>\n",
       "      <td>1.542937e+06</td>\n",
       "    </tr>\n",
       "    <tr>\n",
       "      <th>75%</th>\n",
       "      <td>71.984250</td>\n",
       "      <td>7469.500000</td>\n",
       "      <td>5.886795e+06</td>\n",
       "    </tr>\n",
       "    <tr>\n",
       "      <th>max</th>\n",
       "      <td>86.751000</td>\n",
       "      <td>220717.000000</td>\n",
       "      <td>7.713468e+09</td>\n",
       "    </tr>\n",
       "  </tbody>\n",
       "</table>\n",
       "</div>"
      ],
      "text/plain": [
       "       Life expectancy at birth (years)  GDP per capita ($)    Population\n",
       "count                      19028.000000        18202.000000  4.688300e+04\n",
       "mean                          61.751767         6886.100483  2.982790e+07\n",
       "std                           13.091632        11092.599373  2.530860e+08\n",
       "min                           17.760000          134.000000  9.050000e+02\n",
       "25%                           52.314750         1380.250000  2.017335e+05\n",
       "50%                           64.713000         2744.500000  1.542937e+06\n",
       "75%                           71.984250         7469.500000  5.886795e+06\n",
       "max                           86.751000       220717.000000  7.713468e+09"
      ]
     },
     "execution_count": 67,
     "metadata": {},
     "output_type": "execute_result"
    }
   ],
   "source": [
    "# Relevant packages for the assignment imported.\n",
    "# The data set 'life-expectancy-vs-gdp-per-capita.csv' is read and converted into a DataFrame, then the data set is described.\n",
    "\n",
    "import pandas as pd\n",
    "import matplotlib.pyplot as plt\n",
    "df = pd.read_csv('life-expectancy-vs-gdp-per-capita.csv')\n",
    "df.describe()"
   ]
  },
  {
   "cell_type": "code",
   "execution_count": null,
   "metadata": {},
   "outputs": [],
   "source": [
    "# The whole data set is printed.\n",
    "print(df)"
   ]
  },
  {
   "cell_type": "code",
   "execution_count": null,
   "metadata": {},
   "outputs": [],
   "source": [
    "# Data belonging to the columns 'Entity', 'Life expectancy at birth (years)' & 'GDP per capita ($)'\n",
    "# and data with 'Year' = 2016 are selected to be included in the new dataframe 'dataframe'.\n",
    "# 'dataframe' is finally printed.\n",
    "rslt_df = df.loc[df['Year'] == '2016']\n",
    "dataframe = pd.DataFrame(rslt_df, columns = ['Entity', 'Life expectancy at birth (years)', 'GDP per capita ($)'])\n",
    "print(dataframe)"
   ]
  },
  {
   "cell_type": "code",
   "execution_count": null,
   "metadata": {},
   "outputs": [],
   "source": [
    "# A scatter plot of the data in 'dataframe' is created.\n",
    "# Life expectancy is put on the x-axis.\n",
    "# GDP per capita is put on the y-axis.\n",
    "\n",
    "dataframe.plot.scatter(x='Life expectancy at birth (years)', y='GDP per capita ($)')\n",
    "plt.show()"
   ]
  },
  {
   "cell_type": "markdown",
   "metadata": {},
   "source": [
    "# Task 1a"
   ]
  },
  {
   "cell_type": "code",
   "execution_count": null,
   "metadata": {},
   "outputs": [],
   "source": [
    "# A new data set ('task1'), based on 'dataframe', is created only including data points with a life expactancy higher than the mean plus\n",
    "# one standard deviation.\n",
    "# 'task1' is sorted in descending order by life expectancy.\n",
    "# 'task1' is finally printed.\n",
    "\n",
    "task1 = dataframe.loc[dataframe['Life expectancy at birth (years)'] > (dataframe.mean()[0]+dataframe.std()[0])]\n",
    "task1.sort_values(by=['Life expectancy at birth (years)'], inplace=True, ascending=False)\n",
    "print(task1)"
   ]
  },
  {
   "cell_type": "code",
   "execution_count": null,
   "metadata": {},
   "outputs": [],
   "source": [
    "# The previous scatter plot created above is combined with a new scatter plot, based on the data set 'task1', whose data points\n",
    "# are marked in red.\n",
    "# The scatter plot is given a title.\n",
    "plt.scatter(dataframe['Life expectancy at birth (years)'], dataframe['GDP per capita ($)'], alpha=0.5)\n",
    "plt.scatter(task1['Life expectancy at birth (years)'], task1['GDP per capita ($)'], color='red')\n",
    "plt.title('Countries with life expectancy higher than one sigma above mean')\n",
    "plt.show()"
   ]
  },
  {
   "cell_type": "markdown",
   "metadata": {},
   "source": [
    "# Task 1b"
   ]
  },
  {
   "cell_type": "code",
   "execution_count": null,
   "metadata": {
    "scrolled": true
   },
   "outputs": [],
   "source": [
    "# A new data set ('task2'), based on 'dataframe', is created only including data points with a life expactancy higher than the mean plus\n",
    "# 1/3 standard deviation, and a GDP per capita lower than the mean minus 1/3 standard deviation.\n",
    "# 'task2' is finally printed.\n",
    "\n",
    "task2 = dataframe.loc[(dataframe['Life expectancy at birth (years)'] > dataframe.mean()[0] + dataframe.std()[0]/3) &\n",
    "                      (dataframe['GDP per capita ($)'] < dataframe.mean()[1] - dataframe.std()[1]/3)]\n",
    "print(task2)"
   ]
  },
  {
   "cell_type": "code",
   "execution_count": null,
   "metadata": {},
   "outputs": [],
   "source": [
    "# The previous scatter plot created for only 'dataframe' is combined with a new scatter plot, based on the data set 'task2'\n",
    "# whose data points are marked in red.\n",
    "# The scatter plot is given a title.\n",
    "\n",
    "plt.scatter(dataframe['Life expectancy at birth (years)'], dataframe['GDP per capita ($)'], alpha=0.5)\n",
    "plt.scatter(task2['Life expectancy at birth (years)'], task2['GDP per capita ($)'], color='red')\n",
    "plt.title('High life expectancy, but low GDP')\n",
    "plt.show()"
   ]
  },
  {
   "cell_type": "markdown",
   "metadata": {},
   "source": [
    "# Task 1c"
   ]
  },
  {
   "cell_type": "code",
   "execution_count": null,
   "metadata": {},
   "outputs": [],
   "source": [
    "# A new data set ('task3'), based on 'dataframe', is created only including data points with a life expactancy lower than\n",
    "# the mean plus 1/3 standard deviation, and a GDP per capita higher than the mean plus one standard deviation.\n",
    "# 'task3' is finally printed.\n",
    "\n",
    "task3 = dataframe.loc[(dataframe['Life expectancy at birth (years)'] < dataframe.mean()[0] + dataframe.std()[0]/3) &\n",
    "                      (dataframe['GDP per capita ($)'] > dataframe.mean()[1] + dataframe.std()[1])]\n",
    "print(task3)"
   ]
  },
  {
   "cell_type": "code",
   "execution_count": null,
   "metadata": {},
   "outputs": [],
   "source": [
    "# The previous scatter plot created for only 'dataframe' is combined with a new scatter plot, based on the data set 'task3'\n",
    "# whose data points are marked in red.\n",
    "# The scatter plot is given a title.\n",
    "\n",
    "plt.scatter(dataframe['Life expectancy at birth (years)'], dataframe['GDP per capita ($)'], alpha=0.5)\n",
    "plt.scatter(task3['Life expectancy at birth (years)'], task3['GDP per capita ($)'], color='red')\n",
    "plt.title('Do all strong economies have high life expectancy?')\n",
    "plt.show()"
   ]
  },
  {
   "cell_type": "markdown",
   "metadata": {},
   "source": [
    "# Task 2"
   ]
  },
  {
   "cell_type": "code",
   "execution_count": null,
   "metadata": {},
   "outputs": [],
   "source": [
    "# The data set 'happiness-cantril-ladder.csv' is read and converted into a DataFrame.\n",
    "# The data set 'oecd-pisa-test-scores-for-selected-countries-2000-2012.csv' is read and converted into a DataFrame.\n",
    "\n",
    "happiness1 = pd.read_csv('happiness-cantril-ladder.csv')\n",
    "pisa1 = pd.read_csv('oecd-pisa-test-scores-for-selected-countries-2000-2012.csv')"
   ]
  },
  {
   "cell_type": "code",
   "execution_count": null,
   "metadata": {},
   "outputs": [],
   "source": [
    "# Only data with 'Year' = 2012 are selected to be included in new versions of the two downloaded datasets.\n",
    "# 'happiness' and 'pisa' are merged to the data set 'merged' on equal values in the column 'Code'.\n",
    "# 'merged_new' only contains for this task relevant columns from 'merged'\n",
    "\n",
    "happiness = happiness1.loc[happiness1['Year'] == 2012]\n",
    "pisa = pisa1.loc[pisa1['Year'] == 2012]\n",
    "merged = pd.merge(happiness, pisa, on='Code')\n",
    "merged_new = pd.DataFrame(merged, columns = ['Entity_x', 'World Happiness Report 2016 (Cantril Ladder (0=worst; 10=best))', 'OECD PISA education score'])"
   ]
  },
  {
   "cell_type": "code",
   "execution_count": null,
   "metadata": {},
   "outputs": [],
   "source": [
    "# 'merged_new' is printed.\n",
    "\n",
    "print(merged_new)"
   ]
  },
  {
   "cell_type": "code",
   "execution_count": null,
   "metadata": {
    "scrolled": false
   },
   "outputs": [],
   "source": [
    "# A scatter plot of the data in 'merged_new' is created.\n",
    "# PISA score is put on the x-axis.\n",
    "# Happiness level is put on the y-axis.\n",
    "# The scatter plot is finally given a title.\n",
    "\n",
    "plt.scatter(merged_new['OECD PISA education score'], merged_new['World Happiness Report 2016 (Cantril Ladder (0=worst; 10=best))'], alpha=0.5)\n",
    "plt.title('Task 4')\n",
    "plt.show()"
   ]
  },
  {
   "cell_type": "code",
   "execution_count": null,
   "metadata": {},
   "outputs": [],
   "source": [
    "# A new data set ('happybutstupid'), based on 'merged_new', is created only including data points with a PISA score lower than\n",
    "# 460, and a happiness level higher than 7.0.\n",
    "# 'happybutstupid' is finally printed.\n",
    "happybutstupid = merged_new.loc[(merged_new['OECD PISA education score'] < 460) &\n",
    "                      (merged_new['World Happiness Report 2016 (Cantril Ladder (0=worst; 10=best))'] > 7.0)]\n",
    "print(happybutstupid)"
   ]
  },
  {
   "cell_type": "code",
   "execution_count": null,
   "metadata": {},
   "outputs": [],
   "source": [
    "# The previous scatter plot created for only 'merged_new' is combined with a new scatter plot, based on the data set 'happybutstupid'\n",
    "# whose data points are marked in red.\n",
    "# The scatter plot is given a title.\n",
    "\n",
    "plt.scatter(merged_new['OECD PISA education score'], merged_new['World Happiness Report 2016 (Cantril Ladder (0=worst; 10=best))'], alpha=0.5)\n",
    "plt.scatter(happybutstupid['OECD PISA education score'], happybutstupid['World Happiness Report 2016 (Cantril Ladder (0=worst; 10=best))'], color='red')\n",
    "plt.title('Happy, but stupid')\n",
    "plt.show()"
   ]
  },
  {
   "cell_type": "code",
   "execution_count": null,
   "metadata": {},
   "outputs": [],
   "source": [
    "# A new data set ('unhappybutsmart'), based on 'merged_new', is created only including data points with a PISA score higher than\n",
    "# 530, and a happiness level lower than 5.5.\n",
    "# 'unhappybutsmart' is finally printed.\n",
    "\n",
    "unhappybutsmart = merged_new.loc[(merged_new['OECD PISA education score'] > 530) &\n",
    "                      (merged_new['World Happiness Report 2016 (Cantril Ladder (0=worst; 10=best))'] < 5.5)]\n",
    "print(unhappybutsmart)"
   ]
  },
  {
   "cell_type": "code",
   "execution_count": null,
   "metadata": {},
   "outputs": [],
   "source": [
    "# The previous scatter plot created for only 'merged_new' is combined with a new scatter plot, based on the data set 'unhappybutsmart'\n",
    "# whose data points are marked in red.\n",
    "# The scatter plot is given a title.\n",
    "\n",
    "plt.scatter(merged_new['OECD PISA education score'], merged_new['World Happiness Report 2016 (Cantril Ladder (0=worst; 10=best))'], alpha=0.5)\n",
    "plt.scatter(unhappybutsmart['OECD PISA education score'], unhappybutsmart['World Happiness Report 2016 (Cantril Ladder (0=worst; 10=best))'], color='red')\n",
    "plt.title('Unhappy, but smart')\n",
    "plt.show()"
   ]
  },
  {
   "cell_type": "code",
   "execution_count": null,
   "metadata": {},
   "outputs": [],
   "source": []
  }
 ],
 "metadata": {
  "kernelspec": {
   "display_name": "Python 3",
   "language": "python",
   "name": "python3"
  },
  "language_info": {
   "codemirror_mode": {
    "name": "ipython",
    "version": 3
   },
   "file_extension": ".py",
   "mimetype": "text/x-python",
   "name": "python",
   "nbconvert_exporter": "python",
   "pygments_lexer": "ipython3",
   "version": "3.8.3"
  }
 },
 "nbformat": 4,
 "nbformat_minor": 4
}
